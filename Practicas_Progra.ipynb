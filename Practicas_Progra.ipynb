{
  "nbformat": 4,
  "nbformat_minor": 0,
  "metadata": {
    "colab": {
      "name": "Pracicas.Progra",
      "provenance": [],
      "include_colab_link": true
    },
    "kernelspec": {
      "name": "python3",
      "display_name": "Python 3"
    },
    "language_info": {
      "name": "python"
    }
  },
  "cells": [
    {
      "cell_type": "markdown",
      "metadata": {
        "id": "view-in-github",
        "colab_type": "text"
      },
      "source": [
        "<a href=\"https://colab.research.google.com/github/Scarlethernan28/Hernandez_28/blob/master/Practicas_Progra.ipynb\" target=\"_parent\"><img src=\"https://colab.research.google.com/assets/colab-badge.svg\" alt=\"Open In Colab\"/></a>"
      ]
    },
    {
      "cell_type": "code",
      "execution_count": null,
      "metadata": {
        "colab": {
          "base_uri": "https://localhost:8080/"
        },
        "id": "hIi9ZEC1a_F2",
        "outputId": "76a0c253-dbb7-4f9a-bbee-0aea8efb66a4"
      },
      "outputs": [
        {
          "output_type": "stream",
          "name": "stdout",
          "text": [
            "Hola Mundo Bienvenidos a Porgramacion Computacional III\n"
          ]
        }
      ],
      "source": [
        "print(\"Hola Mundo\", \"Bienvenidos a Porgramacion Computacional III\")"
      ]
    },
    {
      "cell_type": "code",
      "source": [
        "print(\"Genesis Hernandez\")"
      ],
      "metadata": {
        "colab": {
          "base_uri": "https://localhost:8080/"
        },
        "id": "poYpUN2HbNLr",
        "outputId": "45dfd136-9090-455f-b979-49e5c173fa4e"
      },
      "execution_count": null,
      "outputs": [
        {
          "output_type": "stream",
          "name": "stdout",
          "text": [
            "Genesis Hernandez\n"
          ]
        }
      ]
    },
    {
      "cell_type": "code",
      "source": [
        "nombre = \"Genesis Hernandez\"\n",
        "print(\"Hola\", nombre , nombre[5], type(nombre))\n",
        "\n",
        "nombre = 19\n",
        "print(\"Tu edad es: \", type(nombre))"
      ],
      "metadata": {
        "colab": {
          "base_uri": "https://localhost:8080/"
        },
        "id": "Ms-4KaEubhLH",
        "outputId": "002cc039-6383-4fa7-8b6b-7620077a8136"
      },
      "execution_count": null,
      "outputs": [
        {
          "output_type": "stream",
          "name": "stdout",
          "text": [
            "Hola Genesis Hernandez i <class 'str'>\n",
            "Tu edad es:  <class 'int'>\n"
          ]
        }
      ]
    },
    {
      "cell_type": "code",
      "source": [
        "Programacion = True\n",
        "diseno = False\n",
        "print(\"Te gusta Progra\", Programacion, \"Te gusta diseño\", diseno, type(Programacion))"
      ],
      "metadata": {
        "colab": {
          "base_uri": "https://localhost:8080/"
        },
        "id": "Gnd5jtArd4mw",
        "outputId": "93667cd4-ed07-47dc-8d97-56fc36f95ac1"
      },
      "execution_count": null,
      "outputs": [
        {
          "output_type": "stream",
          "name": "stdout",
          "text": [
            "Te gusta Progra True Te gusta diseño False <class 'bool'>\n"
          ]
        }
      ]
    },
    {
      "cell_type": "code",
      "source": [
        "edad = int(input(\"Dime tu edad: \"))\n",
        "if edad>=19: #comparacion da como resultado un valor booleano\n",
        "  print(\"Eres un adulto, tienes resposabilidades...\")\n",
        "else:\n",
        "   print(\"Eres libre\")"
      ],
      "metadata": {
        "colab": {
          "base_uri": "https://localhost:8080/"
        },
        "id": "XUQC48ZdeyDe",
        "outputId": "29b6f507-b9c6-4057-997d-def0312e767a"
      },
      "execution_count": null,
      "outputs": [
        {
          "output_type": "stream",
          "name": "stdout",
          "text": [
            "Dime tu edad: 19\n",
            "Eres un adulto, tienes resposabilidades...\n"
          ]
        }
      ]
    },
    {
      "cell_type": "code",
      "source": [
        "def sumaDosNumeros(num1, num2):\n",
        "   resp= num1 + num2 \n",
        "   return resp\n",
        "print( \"La suma: \", sumaDosNumeros(2,5))"
      ],
      "metadata": {
        "colab": {
          "base_uri": "https://localhost:8080/"
        },
        "id": "n9V5CFfsfivU",
        "outputId": "65cd5ca3-b321-47ff-94da-b8006fdbde78"
      },
      "execution_count": null,
      "outputs": [
        {
          "output_type": "stream",
          "name": "stdout",
          "text": [
            "La suma:  7\n"
          ]
        }
      ]
    },
    {
      "cell_type": "code",
      "source": [
        "#funciones anonimas...\n",
        "sumaNumeros = lambda num1, num2: num1 + num2\n",
        "print( \"La suma: \", sumaNumeros(4,6))"
      ],
      "metadata": {
        "colab": {
          "base_uri": "https://localhost:8080/"
        },
        "id": "Vv01y1KagUy5",
        "outputId": "0ff48cc4-a4c7-489b-a20a-71e11ed1ea92"
      },
      "execution_count": null,
      "outputs": [
        {
          "output_type": "stream",
          "name": "stdout",
          "text": [
            "La suma:  10\n"
          ]
        }
      ]
    },
    {
      "cell_type": "code",
      "source": [
        "numeros = [5,4,7,8,-4,-9] #array unidimensional"
      ],
      "metadata": {
        "id": "khkrkOelhKMy"
      },
      "execution_count": null,
      "outputs": []
    },
    {
      "cell_type": "code",
      "source": [
        "def cuadrado(num):\n",
        "  return num**2"
      ],
      "metadata": {
        "id": "s_k5DxoOhX-h"
      },
      "execution_count": null,
      "outputs": []
    },
    {
      "cell_type": "code",
      "source": [
        "def cubo(num):\n",
        "  return num**3"
      ],
      "metadata": {
        "id": "RDXl3TfzhjJy"
      },
      "execution_count": null,
      "outputs": []
    },
    {
      "cell_type": "code",
      "source": [
        "def pares(num): #num = 2/2 = 1 ==0\n",
        "  return num%2==0"
      ],
      "metadata": {
        "id": "eujCshk_huoh"
      },
      "execution_count": null,
      "outputs": []
    },
    {
      "cell_type": "code",
      "source": [
        "def impares(num): \n",
        "  return num%2!=0"
      ],
      "metadata": {
        "id": "mZW_vIcYiAdx"
      },
      "execution_count": null,
      "outputs": []
    },
    {
      "cell_type": "code",
      "source": [
        "numCuadrado = list (map(cuadrado, numeros))\n",
        "numXDos = list(map(lambda num: num*2, numeros))\n",
        "print(\"Elevar al cuadrado lista: \", numCuadrado,numeros)"
      ],
      "metadata": {
        "colab": {
          "base_uri": "https://localhost:8080/"
        },
        "id": "_LuEZsv2iPay",
        "outputId": "44ea083a-0e0f-4d94-8567-0e93be9a877c"
      },
      "execution_count": null,
      "outputs": [
        {
          "output_type": "stream",
          "name": "stdout",
          "text": [
            "Elevar al cuadrado lista:  [25, 16, 49, 64, 16, 81] [5, 4, 7, 8, -4, -9]\n"
          ]
        }
      ]
    },
    {
      "cell_type": "code",
      "source": [
        "numCubo = list(map(cubo,numeros) )\n",
        "print (numCubo)"
      ],
      "metadata": {
        "colab": {
          "base_uri": "https://localhost:8080/"
        },
        "id": "Sr8DmCIli5Zc",
        "outputId": "ed536904-de81-4252-ddd4-6d977dfae986"
      },
      "execution_count": null,
      "outputs": [
        {
          "output_type": "stream",
          "name": "stdout",
          "text": [
            "[125, 64, 343, 512, -64, -729]\n"
          ]
        }
      ]
    },
    {
      "cell_type": "code",
      "source": [
        "#usando filter dejamos solo los pares\n",
        "pares = list(filter(pares, numeros))\n",
        "print(pares)"
      ],
      "metadata": {
        "colab": {
          "base_uri": "https://localhost:8080/"
        },
        "id": "MI7qM6k2jYoE",
        "outputId": "49d86e8b-e970-436d-ec5c-3e4e580acc52"
      },
      "execution_count": null,
      "outputs": [
        {
          "output_type": "stream",
          "name": "stdout",
          "text": [
            "[4, 8, -4]\n"
          ]
        }
      ]
    },
    {
      "cell_type": "code",
      "source": [
        "impares = list (filter(impares,numeros) )\n",
        "print(impares)"
      ],
      "metadata": {
        "colab": {
          "base_uri": "https://localhost:8080/"
        },
        "id": "j4RJkWA8j6sW",
        "outputId": "8eb8639c-8707-4170-d3c6-85722989e39c"
      },
      "execution_count": null,
      "outputs": [
        {
          "output_type": "stream",
          "name": "stdout",
          "text": [
            "[5, 7, -9]\n"
          ]
        }
      ]
    },
    {
      "cell_type": "code",
      "source": [
        "#conversor de celsius a f\n",
        "def cf(c):\n",
        "  return c*9/5+32"
      ],
      "metadata": {
        "id": "QiX8M8hmkRBv"
      },
      "execution_count": null,
      "outputs": []
    },
    {
      "cell_type": "code",
      "source": [
        "c = float(input(\"Grados C: \"))\n",
        "print( \"G. C a F\", cf(c))"
      ],
      "metadata": {
        "colab": {
          "base_uri": "https://localhost:8080/"
        },
        "id": "y97fgrCVmD46",
        "outputId": "1cd4b5a8-cb12-4322-9224-d88397b8a7ee"
      },
      "execution_count": null,
      "outputs": [
        {
          "output_type": "stream",
          "name": "stdout",
          "text": [
            "Grados C: 27\n",
            "G. C a F 80.6\n"
          ]
        }
      ]
    },
    {
      "cell_type": "code",
      "source": [
        "celsius = lambda c: c*9/5 +32\n",
        "c = int(input(\"Grados Celsius A convertir: \"))\n",
        "\n",
        "print( celsius(c) )"
      ],
      "metadata": {
        "colab": {
          "base_uri": "https://localhost:8080/"
        },
        "id": "rAI3LBj1mWXB",
        "outputId": "24239294-8d79-400a-b245-c08d7781ccec"
      },
      "execution_count": null,
      "outputs": [
        {
          "output_type": "stream",
          "name": "stdout",
          "text": [
            "Grados Celsius A convertir: 27\n",
            "80.6\n"
          ]
        }
      ]
    },
    {
      "cell_type": "code",
      "source": [
        "gradosc = [27,30,35,40,45]\n",
        "grados = lambda c: c*1.8 + 32\n",
        "f = list(map(grados,gradosc) )\n",
        "print(f)"
      ],
      "metadata": {
        "colab": {
          "base_uri": "https://localhost:8080/"
        },
        "id": "CEJwcEHHmyuB",
        "outputId": "7b3a6647-3a69-4521-94e1-008e4cd4c678"
      },
      "execution_count": null,
      "outputs": [
        {
          "output_type": "stream",
          "name": "stdout",
          "text": [
            "[80.6, 86.0, 95.0, 104.0, 113.0]\n"
          ]
        }
      ]
    },
    {
      "cell_type": "code",
      "source": [
        "farenheit = lambda f: c*9/5 +32\n",
        "f = int(input(\"Grados Farenheit A convertir: \"))\n",
        "\n",
        "print(farenheit(f))"
      ],
      "metadata": {
        "colab": {
          "base_uri": "https://localhost:8080/"
        },
        "id": "FyQsxkm4nrfL",
        "outputId": "fa11ffd6-be1a-4be0-e527-0d33567d02da"
      },
      "execution_count": null,
      "outputs": [
        {
          "output_type": "stream",
          "name": "stdout",
          "text": [
            "Grados Farenheit A convertir: 27\n",
            "80.6\n"
          ]
        }
      ]
    },
    {
      "cell_type": "code",
      "source": [
        "gradosf = [80.0,86.0,95.0,104.0,113.0]\n",
        "grados = lambda f: (f-32)*5/9\n",
        "c = list(map(grados,gradosf))\n",
        "\n",
        "print(c)"
      ],
      "metadata": {
        "colab": {
          "base_uri": "https://localhost:8080/"
        },
        "id": "jiA-BEb7njDQ",
        "outputId": "7bfcb617-e12c-4be6-80c5-a4657c9cb906"
      },
      "execution_count": null,
      "outputs": [
        {
          "output_type": "stream",
          "name": "stdout",
          "text": [
            "[26.666666666666668, 30.0, 35.0, 40.0, 45.0]\n"
          ]
        }
      ]
    },
    {
      "cell_type": "code",
      "source": [
        "#Hacer algoritmo para convertir de celsius a kelvin y viceversa"
      ],
      "metadata": {
        "id": "ituyAyoLxEPj"
      },
      "execution_count": null,
      "outputs": []
    },
    {
      "cell_type": "code",
      "source": [
        "gradosK = [300.0, 303.0, 308.0, 313.0,218.0]\n",
        "gradosC= lambda c:(c-273.15)\n",
        "c = list(map(gradosC, gradosK))\n",
        "print(c)"
      ],
      "metadata": {
        "colab": {
          "base_uri": "https://localhost:8080/"
        },
        "id": "XoWmcO-LxTEc",
        "outputId": "3989af2a-b25f-4cc5-f22a-406a2df06ea7"
      },
      "execution_count": null,
      "outputs": [
        {
          "output_type": "stream",
          "name": "stdout",
          "text": [
            "[26.850000000000023, 29.850000000000023, 34.85000000000002, 39.85000000000002, -55.14999999999998]\n"
          ]
        }
      ]
    },
    {
      "cell_type": "code",
      "source": [
        "gradosC = [26,29,34,-55]\n",
        "gradosK = lambda k: k+273.15\n",
        "k = list(map(gradosK,gradosC))\n",
        "print(k)"
      ],
      "metadata": {
        "colab": {
          "base_uri": "https://localhost:8080/"
        },
        "id": "oj5sYLiaytNS",
        "outputId": "3ddc2c8b-dd2c-4e94-b4e8-12ba1a191b4a"
      },
      "execution_count": null,
      "outputs": [
        {
          "output_type": "stream",
          "name": "stdout",
          "text": [
            "[299.15, 302.15, 307.15, 218.14999999999998]\n"
          ]
        }
      ]
    },
    {
      "cell_type": "code",
      "source": [
        "gradosK = lambda k: k+273.15\n",
        "kelvin = int(input(\"Grados Celsius: \"))\n",
        "print(gradosK(kelvin))"
      ],
      "metadata": {
        "colab": {
          "base_uri": "https://localhost:8080/"
        },
        "id": "jNOOYNvk0F8f",
        "outputId": "e254bccf-f155-47f8-b9f9-e0c37dcaee43"
      },
      "execution_count": null,
      "outputs": [
        {
          "output_type": "stream",
          "name": "stdout",
          "text": [
            "Grados Celsius: 10\n",
            "283.15\n"
          ]
        }
      ]
    },
    {
      "cell_type": "code",
      "source": [
        "gradosC = lambda c: c-273.15\n",
        "celsius = float(input(\"Grados kelvin: \"))\n",
        "print(gradosC(celsius))"
      ],
      "metadata": {
        "colab": {
          "base_uri": "https://localhost:8080/"
        },
        "id": "e8w-sp8F04fQ",
        "outputId": "58e9c901-8337-4014-da2c-db467181a33f"
      },
      "execution_count": null,
      "outputs": [
        {
          "output_type": "stream",
          "name": "stdout",
          "text": [
            "Grados kelvin: 340.15\n",
            "67.0\n"
          ]
        }
      ]
    },
    {
      "cell_type": "markdown",
      "source": [
        "IMPORTACIÓN DE PANDAS"
      ],
      "metadata": {
        "id": "Yv40yPIA2Z6o"
      }
    },
    {
      "cell_type": "code",
      "source": [
        "import pandas as pd\n",
        "import matplotlib.pyplot as plt"
      ],
      "metadata": {
        "id": "06G033FnlByI"
      },
      "execution_count": null,
      "outputs": []
    },
    {
      "cell_type": "code",
      "source": [
        "notas = pd.read_csv(\"/content/Notas2.csv\", sep=\";\", encoding=\"utf-8\")\n",
        "print(notas)"
      ],
      "metadata": {
        "id": "npVxRekqmjHW"
      },
      "execution_count": null,
      "outputs": []
    },
    {
      "cell_type": "code",
      "source": [
        "sobresalientes = notas.loc[notas[\"notas\"]>=9]\n",
        "print(sobresalientes)"
      ],
      "metadata": {
        "id": "PgDXkJ1mm7lN"
      },
      "execution_count": null,
      "outputs": []
    },
    {
      "cell_type": "code",
      "source": [
        "reprobados = notas.loc[notas[\"notas\"]<6].agg({\"count\"})\n",
        "print(reprobados)"
      ],
      "metadata": {
        "id": "AQqDf4--m_Jl"
      },
      "execution_count": null,
      "outputs": []
    },
    {
      "cell_type": "code",
      "source": [
        "agrupar = notas.groupby([\"notas\"]).agg({\"sum\"})\n",
        "print(agrupar)"
      ],
      "metadata": {
        "id": "Vl9sRGN7nKOw"
      },
      "execution_count": null,
      "outputs": []
    },
    {
      "cell_type": "code",
      "source": [
        "tabla = pd.crosstab(index=notas[\"notas\"], columns=\"frecuencia\")\n",
        "plt.pie(tabla, labels=tabla.index)\n",
        "plt.xlabel(\"Estudiantes por notas\")\n",
        "plt.show()\n",
        "\n",
        "tabla.to_csv(\"/content/tabla.csv\", sep=\";\")"
      ],
      "metadata": {
        "id": "A9avQpminOJ_"
      },
      "execution_count": null,
      "outputs": []
    },
    {
      "cell_type": "markdown",
      "source": [
        "**HOLA MUNDO EN TENSORFLOW-IA** "
      ],
      "metadata": {
        "id": "0NASmfaswpFk"
      }
    },
    {
      "cell_type": "code",
      "source": [
        "import tensorflow as tf"
      ],
      "metadata": {
        "id": "iTI0dwUS1EUx"
      },
      "execution_count": null,
      "outputs": []
    },
    {
      "cell_type": "code",
      "source": [
        "resp = tf.add(3,8).numpy()\n",
        "print(resp)"
      ],
      "metadata": {
        "id": "oHHG0Qkj1Y2E",
        "outputId": "283b53ff-d318-4268-9cdd-d5d289b1b2fe",
        "colab": {
          "base_uri": "https://localhost:8080/"
        }
      },
      "execution_count": null,
      "outputs": [
        {
          "output_type": "stream",
          "name": "stdout",
          "text": [
            "11\n"
          ]
        }
      ]
    },
    {
      "cell_type": "markdown",
      "source": [
        "ENTRENAR UNA IA QUE CONVIERTA GRADOS CELSIUS A FAHRENHEIT"
      ],
      "metadata": {
        "id": "1iez1s5Hksv-"
      }
    },
    {
      "cell_type": "code",
      "source": [
        "#importar las librerias\n",
        "import tensorflow as tf\n",
        "import pandas as pd\n",
        "import matplotlib.pyplot as plt\n",
        "import seaborn as sb"
      ],
      "metadata": {
        "id": "ds7QgOl6kuRp"
      },
      "execution_count": null,
      "outputs": []
    },
    {
      "cell_type": "code",
      "source": [
        "#leer datos de entrenamiento\n",
        "temperaturas = pd.read_csv(\"/content/grados.csv\", sep=\";\")\n",
        "print(temperaturas[\"celsius\"])"
      ],
      "metadata": {
        "id": "HhKPCgeulB7j"
      },
      "execution_count": null,
      "outputs": []
    },
    {
      "cell_type": "code",
      "source": [
        "#graficar los datos\n",
        "sb.scatterplot(temperaturas[\"celsius\"], temperaturas[\"fahrenheit\"])\n",
        "plt.show()"
      ],
      "metadata": {
        "id": "cnzBGz6slMD7"
      },
      "execution_count": null,
      "outputs": []
    },
    {
      "cell_type": "code",
      "source": [
        "#datos de entrada y salida\n",
        "celsius = temperaturas[\"celsius\"]\n",
        "fahrenheit = temperaturas[\"fahrenheit\"]"
      ],
      "metadata": {
        "id": "dExK_WaMlVWU"
      },
      "execution_count": null,
      "outputs": []
    },
    {
      "cell_type": "code",
      "source": [
        "#modelo de entrenamiento\n",
        "modelo = tf.keras.Sequential()\n",
        "modelo.add(tf.keras.layers.Dense(units=1, input_shape=[1]))"
      ],
      "metadata": {
        "id": "HVGewPmSlaOP"
      },
      "execution_count": null,
      "outputs": []
    },
    {
      "cell_type": "code",
      "source": [
        "#compilar elmodelo\n",
        "modelo.compile(optimizer=tf.keras.optimizers.Adam(1), loss='mean_squared_error')"
      ],
      "metadata": {
        "id": "Hb6G_9paldKB"
      },
      "execution_count": null,
      "outputs": []
    },
    {
      "cell_type": "code",
      "source": [
        "#entrenar el modelo\n",
        "epocas = modelo.fit(celsius, fahrenheit, epochs=100, verbose=1)"
      ],
      "metadata": {
        "id": "PkM3JTqxljRU"
      },
      "execution_count": null,
      "outputs": []
    },
    {
      "cell_type": "code",
      "source": [
        "#hacer predicciones... verificar si el resultado es el esperado\n",
        "f = modelo.predict([27])\n",
        "print(f[0][0])"
      ],
      "metadata": {
        "id": "ZpvTP4nSlqCL",
        "outputId": "3dad8960-ac2a-4ed1-ce71-a3fca8289eb0",
        "colab": {
          "base_uri": "https://localhost:8080/"
        }
      },
      "execution_count": null,
      "outputs": [
        {
          "output_type": "stream",
          "name": "stdout",
          "text": [
            "80.19649\n"
          ]
        }
      ]
    },
    {
      "cell_type": "markdown",
      "source": [
        "Clase virtual 3 de octubre"
      ],
      "metadata": {
        "id": "YKws44Tnnitv"
      }
    },
    {
      "cell_type": "code",
      "source": [
        "#Entrenar una IA QUE APRENDA A LEER NUMEROS DEL 0-9"
      ],
      "metadata": {
        "id": "T1vkaOd1nluo"
      },
      "execution_count": 9,
      "outputs": []
    },
    {
      "cell_type": "code",
      "source": [
        "#1. Importar las librerias\n",
        "import tensorflow as tf\n",
        "import matplotlib.pyplot as pyplot\n",
        "import numpy as np\n",
        "import math\n",
        "import tensorflow_datasets as tfds"
      ],
      "metadata": {
        "id": "naY8Q6ZDqcQ9"
      },
      "execution_count": 12,
      "outputs": []
    },
    {
      "cell_type": "code",
      "source": [
        "#2. Cargar nuestro dataset en variables\n",
        "dataset, metadata = tfds.load('mnist', as_supervised= True, with_info=True)\n",
        "datos_entranimento, datos_prueba = dataset[\"train\"], dataset[\"test\"]\n",
        "print(datos_prueba)"
      ],
      "metadata": {
        "id": "qsIHHfoDrJc3",
        "outputId": "07020933-78a1-4a70-fc1d-01ec1887c1ae",
        "colab": {
          "base_uri": "https://localhost:8080/"
        }
      },
      "execution_count": 17,
      "outputs": [
        {
          "output_type": "stream",
          "name": "stdout",
          "text": [
            "<PrefetchDataset element_spec=(TensorSpec(shape=(28, 28, 1), dtype=tf.uint8, name=None), TensorSpec(shape=(), dtype=tf.int64, name=None))>\n"
          ]
        }
      ]
    },
    {
      "cell_type": "code",
      "source": [
        "#3. Etiquetas de los datos son 10\n",
        "numeros_lentras = [\"Cero\", \"Uno\", \"Dos\", \"Tres\", \"Cuatro\", \"Cinco\", \"Seis\", \"Siete\", \"Ocho\", \"Nueve\"]"
      ],
      "metadata": {
        "id": "QjhjQqc_tUb4"
      },
      "execution_count": 20,
      "outputs": []
    },
    {
      "cell_type": "code",
      "source": [
        "#4. Obtener la cantidad de datos de entrenamiento y prueba\n",
        "print(metadata.splits)\n",
        "numeros_ejemplo_entrenamiento = metadata.splits[\"train\"].num_examples\n",
        "numeros_ejemplo_prueba = metadata.splits[\"test\"].num_examples"
      ],
      "metadata": {
        "id": "ThcEu9tzuXT1"
      },
      "execution_count": null,
      "outputs": []
    },
    {
      "cell_type": "code",
      "source": [
        "#5. Funcion normalizadora\n",
        "def normalizacion(img, label):\n",
        "  img = tf.cast(img, tf.float32)\n",
        "  print(img)\n",
        "  img /= 255 #150/25 = 0.58\n",
        "  return img , label"
      ],
      "metadata": {
        "id": "YhjJcsO3vqLK"
      },
      "execution_count": 46,
      "outputs": []
    },
    {
      "cell_type": "code",
      "source": [
        "#6 Llamar a fuincion normalizadora\n",
        "\"\"\"for img, label in datos_entrenamiento.take(1):\n",
        "print(img.numpy()/255 )\n",
        "\"\"\"\n",
        "#datos_entrenamiento = datos_entrenamiento.map(normalizacion)\n",
        "datos_prueba  =  datos_prueba.map(normalizacion)"
      ],
      "metadata": {
        "id": "uKM3UiBkwq8t"
      },
      "execution_count": null,
      "outputs": []
    },
    {
      "cell_type": "code",
      "source": [
        "#7. Arquitectura de la red neuronal.\n",
        "modelo = tf.keras.Sequential ([\n",
        "    tf.keras.layers.Flatten(input_shape=(28,28,1)), #capa de entrad de 28*28*1 canal\n",
        "    tf.keras.layers.Dense(64, activation=tf.nn.relu),# capa oculta con 64 neuronas , con la funcion de activacion RELU, nos da valorese entre 0 y 1\n",
        "    tf.keras.layers.Dense(64, activation=tf.nn.relu),# capa oculta con 64 neuronas , con la funcion de activacion RELU, nos da valorese entre 0 y 1\n",
        "    tf.keras.layers.Dense(10, activation=tf.nn.softmax), #capa de salida con 10 neuronas, con la funcion de activacion softmax es exclusiva para clasificacion de imagenes\n",
        "])"
      ],
      "metadata": {
        "id": "CI-yUbJm1G8V"
      },
      "execution_count": 51,
      "outputs": []
    }
  ]
}