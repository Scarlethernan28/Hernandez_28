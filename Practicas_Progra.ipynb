{
  "nbformat": 4,
  "nbformat_minor": 0,
  "metadata": {
    "colab": {
      "name": "Pracicas.Progra",
      "provenance": [],
      "include_colab_link": true
    },
    "kernelspec": {
      "name": "python3",
      "display_name": "Python 3"
    },
    "language_info": {
      "name": "python"
    }
  },
  "cells": [
    {
      "cell_type": "markdown",
      "metadata": {
        "id": "view-in-github",
        "colab_type": "text"
      },
      "source": [
        "<a href=\"https://colab.research.google.com/github/Scarlethernan28/Hernandez_28/blob/master/Practicas_Progra.ipynb\" target=\"_parent\"><img src=\"https://colab.research.google.com/assets/colab-badge.svg\" alt=\"Open In Colab\"/></a>"
      ]
    },
    {
      "cell_type": "code",
      "execution_count": null,
      "metadata": {
        "colab": {
          "base_uri": "https://localhost:8080/"
        },
        "id": "hIi9ZEC1a_F2",
        "outputId": "76a0c253-dbb7-4f9a-bbee-0aea8efb66a4"
      },
      "outputs": [
        {
          "output_type": "stream",
          "name": "stdout",
          "text": [
            "Hola Mundo Bienvenidos a Porgramacion Computacional III\n"
          ]
        }
      ],
      "source": [
        "print(\"Hola Mundo\", \"Bienvenidos a Porgramacion Computacional III\")"
      ]
    },
    {
      "cell_type": "code",
      "source": [
        "print(\"Genesis Hernandez\")"
      ],
      "metadata": {
        "colab": {
          "base_uri": "https://localhost:8080/"
        },
        "id": "poYpUN2HbNLr",
        "outputId": "45dfd136-9090-455f-b979-49e5c173fa4e"
      },
      "execution_count": null,
      "outputs": [
        {
          "output_type": "stream",
          "name": "stdout",
          "text": [
            "Genesis Hernandez\n"
          ]
        }
      ]
    },
    {
      "cell_type": "code",
      "source": [
        "nombre = \"Genesis Hernandez\"\n",
        "print(\"Hola\", nombre , nombre[5], type(nombre))\n",
        "\n",
        "nombre = 19\n",
        "print(\"Tu edad es: \", type(nombre))"
      ],
      "metadata": {
        "colab": {
          "base_uri": "https://localhost:8080/"
        },
        "id": "Ms-4KaEubhLH",
        "outputId": "002cc039-6383-4fa7-8b6b-7620077a8136"
      },
      "execution_count": null,
      "outputs": [
        {
          "output_type": "stream",
          "name": "stdout",
          "text": [
            "Hola Genesis Hernandez i <class 'str'>\n",
            "Tu edad es:  <class 'int'>\n"
          ]
        }
      ]
    },
    {
      "cell_type": "code",
      "source": [
        "Programacion = True\n",
        "diseno = False\n",
        "print(\"Te gusta Progra\", Programacion, \"Te gusta diseño\", diseno, type(Programacion))"
      ],
      "metadata": {
        "colab": {
          "base_uri": "https://localhost:8080/"
        },
        "id": "Gnd5jtArd4mw",
        "outputId": "93667cd4-ed07-47dc-8d97-56fc36f95ac1"
      },
      "execution_count": null,
      "outputs": [
        {
          "output_type": "stream",
          "name": "stdout",
          "text": [
            "Te gusta Progra True Te gusta diseño False <class 'bool'>\n"
          ]
        }
      ]
    },
    {
      "cell_type": "code",
      "source": [
        "edad = int(input(\"Dime tu edad: \"))\n",
        "if edad>=19: #comparacion da como resultado un valor booleano\n",
        "  print(\"Eres un adulto, tienes resposabilidades...\")\n",
        "else:\n",
        "   print(\"Eres libre\")"
      ],
      "metadata": {
        "colab": {
          "base_uri": "https://localhost:8080/"
        },
        "id": "XUQC48ZdeyDe",
        "outputId": "29b6f507-b9c6-4057-997d-def0312e767a"
      },
      "execution_count": null,
      "outputs": [
        {
          "output_type": "stream",
          "name": "stdout",
          "text": [
            "Dime tu edad: 19\n",
            "Eres un adulto, tienes resposabilidades...\n"
          ]
        }
      ]
    },
    {
      "cell_type": "code",
      "source": [
        "def sumaDosNumeros(num1, num2):\n",
        "   resp= num1 + num2 \n",
        "   return resp\n",
        "print( \"La suma: \", sumaDosNumeros(2,5))"
      ],
      "metadata": {
        "colab": {
          "base_uri": "https://localhost:8080/"
        },
        "id": "n9V5CFfsfivU",
        "outputId": "65cd5ca3-b321-47ff-94da-b8006fdbde78"
      },
      "execution_count": null,
      "outputs": [
        {
          "output_type": "stream",
          "name": "stdout",
          "text": [
            "La suma:  7\n"
          ]
        }
      ]
    },
    {
      "cell_type": "code",
      "source": [
        "#funciones anonimas...\n",
        "sumaNumeros = lambda num1, num2: num1 + num2\n",
        "print( \"La suma: \", sumaNumeros(4,6))"
      ],
      "metadata": {
        "colab": {
          "base_uri": "https://localhost:8080/"
        },
        "id": "Vv01y1KagUy5",
        "outputId": "0ff48cc4-a4c7-489b-a20a-71e11ed1ea92"
      },
      "execution_count": null,
      "outputs": [
        {
          "output_type": "stream",
          "name": "stdout",
          "text": [
            "La suma:  10\n"
          ]
        }
      ]
    },
    {
      "cell_type": "code",
      "source": [
        "numeros = [5,4,7,8,-4,-9] #array unidimensional"
      ],
      "metadata": {
        "id": "khkrkOelhKMy"
      },
      "execution_count": null,
      "outputs": []
    },
    {
      "cell_type": "code",
      "source": [
        "def cuadrado(num):\n",
        "  return num**2"
      ],
      "metadata": {
        "id": "s_k5DxoOhX-h"
      },
      "execution_count": null,
      "outputs": []
    },
    {
      "cell_type": "code",
      "source": [
        "def cubo(num):\n",
        "  return num**3"
      ],
      "metadata": {
        "id": "RDXl3TfzhjJy"
      },
      "execution_count": null,
      "outputs": []
    },
    {
      "cell_type": "code",
      "source": [
        "def pares(num): #num = 2/2 = 1 ==0\n",
        "  return num%2==0"
      ],
      "metadata": {
        "id": "eujCshk_huoh"
      },
      "execution_count": null,
      "outputs": []
    },
    {
      "cell_type": "code",
      "source": [
        "def impares(num): \n",
        "  return num%2!=0"
      ],
      "metadata": {
        "id": "mZW_vIcYiAdx"
      },
      "execution_count": null,
      "outputs": []
    },
    {
      "cell_type": "code",
      "source": [
        "numCuadrado = list (map(cuadrado, numeros))\n",
        "numXDos = list(map(lambda num: num*2, numeros))\n",
        "print(\"Elevar al cuadrado lista: \", numCuadrado,numeros)"
      ],
      "metadata": {
        "colab": {
          "base_uri": "https://localhost:8080/"
        },
        "id": "_LuEZsv2iPay",
        "outputId": "44ea083a-0e0f-4d94-8567-0e93be9a877c"
      },
      "execution_count": null,
      "outputs": [
        {
          "output_type": "stream",
          "name": "stdout",
          "text": [
            "Elevar al cuadrado lista:  [25, 16, 49, 64, 16, 81] [5, 4, 7, 8, -4, -9]\n"
          ]
        }
      ]
    },
    {
      "cell_type": "code",
      "source": [
        "numCubo = list(map(cubo,numeros) )\n",
        "print (numCubo)"
      ],
      "metadata": {
        "colab": {
          "base_uri": "https://localhost:8080/"
        },
        "id": "Sr8DmCIli5Zc",
        "outputId": "ed536904-de81-4252-ddd4-6d977dfae986"
      },
      "execution_count": null,
      "outputs": [
        {
          "output_type": "stream",
          "name": "stdout",
          "text": [
            "[125, 64, 343, 512, -64, -729]\n"
          ]
        }
      ]
    },
    {
      "cell_type": "code",
      "source": [
        "#usando filter dejamos solo los pares\n",
        "pares = list(filter(pares, numeros))\n",
        "print(pares)"
      ],
      "metadata": {
        "colab": {
          "base_uri": "https://localhost:8080/"
        },
        "id": "MI7qM6k2jYoE",
        "outputId": "49d86e8b-e970-436d-ec5c-3e4e580acc52"
      },
      "execution_count": null,
      "outputs": [
        {
          "output_type": "stream",
          "name": "stdout",
          "text": [
            "[4, 8, -4]\n"
          ]
        }
      ]
    },
    {
      "cell_type": "code",
      "source": [
        "impares = list (filter(impares,numeros) )\n",
        "print(impares)"
      ],
      "metadata": {
        "colab": {
          "base_uri": "https://localhost:8080/"
        },
        "id": "j4RJkWA8j6sW",
        "outputId": "8eb8639c-8707-4170-d3c6-85722989e39c"
      },
      "execution_count": null,
      "outputs": [
        {
          "output_type": "stream",
          "name": "stdout",
          "text": [
            "[5, 7, -9]\n"
          ]
        }
      ]
    },
    {
      "cell_type": "code",
      "source": [
        "#conversor de celsius a f\n",
        "def cf(c):\n",
        "  return c*9/5+32"
      ],
      "metadata": {
        "id": "QiX8M8hmkRBv"
      },
      "execution_count": null,
      "outputs": []
    },
    {
      "cell_type": "code",
      "source": [
        "c = float(input(\"Grados C: \"))\n",
        "print( \"G. C a F\", cf(c))"
      ],
      "metadata": {
        "colab": {
          "base_uri": "https://localhost:8080/"
        },
        "id": "y97fgrCVmD46",
        "outputId": "1cd4b5a8-cb12-4322-9224-d88397b8a7ee"
      },
      "execution_count": null,
      "outputs": [
        {
          "output_type": "stream",
          "name": "stdout",
          "text": [
            "Grados C: 27\n",
            "G. C a F 80.6\n"
          ]
        }
      ]
    },
    {
      "cell_type": "code",
      "source": [
        "celsius = lambda c: c*9/5 +32\n",
        "c = int(input(\"Grados Celsius A convertir: \"))\n",
        "\n",
        "print( celsius(c) )"
      ],
      "metadata": {
        "colab": {
          "base_uri": "https://localhost:8080/"
        },
        "id": "rAI3LBj1mWXB",
        "outputId": "24239294-8d79-400a-b245-c08d7781ccec"
      },
      "execution_count": null,
      "outputs": [
        {
          "output_type": "stream",
          "name": "stdout",
          "text": [
            "Grados Celsius A convertir: 27\n",
            "80.6\n"
          ]
        }
      ]
    },
    {
      "cell_type": "code",
      "source": [
        "gradosc = [27,30,35,40,45]\n",
        "grados = lambda c: c*1.8 + 32\n",
        "f = list(map(grados,gradosc) )\n",
        "print(f)"
      ],
      "metadata": {
        "colab": {
          "base_uri": "https://localhost:8080/"
        },
        "id": "CEJwcEHHmyuB",
        "outputId": "7b3a6647-3a69-4521-94e1-008e4cd4c678"
      },
      "execution_count": null,
      "outputs": [
        {
          "output_type": "stream",
          "name": "stdout",
          "text": [
            "[80.6, 86.0, 95.0, 104.0, 113.0]\n"
          ]
        }
      ]
    },
    {
      "cell_type": "code",
      "source": [
        "farenheit = lambda f: c*9/5 +32\n",
        "f = int(input(\"Grados Farenheit A convertir: \"))\n",
        "\n",
        "print(farenheit(f))"
      ],
      "metadata": {
        "colab": {
          "base_uri": "https://localhost:8080/"
        },
        "id": "FyQsxkm4nrfL",
        "outputId": "fa11ffd6-be1a-4be0-e527-0d33567d02da"
      },
      "execution_count": null,
      "outputs": [
        {
          "output_type": "stream",
          "name": "stdout",
          "text": [
            "Grados Farenheit A convertir: 27\n",
            "80.6\n"
          ]
        }
      ]
    },
    {
      "cell_type": "code",
      "source": [
        "gradosf = [80.0,86.0,95.0,104.0,113.0]\n",
        "grados = lambda f: (f-32)*5/9\n",
        "c = list(map(grados,gradosf))\n",
        "\n",
        "print(c)"
      ],
      "metadata": {
        "colab": {
          "base_uri": "https://localhost:8080/"
        },
        "id": "jiA-BEb7njDQ",
        "outputId": "7bfcb617-e12c-4be6-80c5-a4657c9cb906"
      },
      "execution_count": null,
      "outputs": [
        {
          "output_type": "stream",
          "name": "stdout",
          "text": [
            "[26.666666666666668, 30.0, 35.0, 40.0, 45.0]\n"
          ]
        }
      ]
    },
    {
      "cell_type": "code",
      "source": [
        "#Hacer algoritmo para convertir de celsius a kelvin y viceversa"
      ],
      "metadata": {
        "id": "ituyAyoLxEPj"
      },
      "execution_count": null,
      "outputs": []
    },
    {
      "cell_type": "code",
      "source": [
        "gradosK = [300.0, 303.0, 308.0, 313.0,218.0]\n",
        "gradosC= lambda c:(c-273.15)\n",
        "c = list(map(gradosC, gradosK))\n",
        "print(c)"
      ],
      "metadata": {
        "colab": {
          "base_uri": "https://localhost:8080/"
        },
        "id": "XoWmcO-LxTEc",
        "outputId": "3989af2a-b25f-4cc5-f22a-406a2df06ea7"
      },
      "execution_count": null,
      "outputs": [
        {
          "output_type": "stream",
          "name": "stdout",
          "text": [
            "[26.850000000000023, 29.850000000000023, 34.85000000000002, 39.85000000000002, -55.14999999999998]\n"
          ]
        }
      ]
    },
    {
      "cell_type": "code",
      "source": [
        "gradosC = [26,29,34,-55]\n",
        "gradosK = lambda k: k+273.15\n",
        "k = list(map(gradosK,gradosC))\n",
        "print(k)"
      ],
      "metadata": {
        "colab": {
          "base_uri": "https://localhost:8080/"
        },
        "id": "oj5sYLiaytNS",
        "outputId": "3ddc2c8b-dd2c-4e94-b4e8-12ba1a191b4a"
      },
      "execution_count": null,
      "outputs": [
        {
          "output_type": "stream",
          "name": "stdout",
          "text": [
            "[299.15, 302.15, 307.15, 218.14999999999998]\n"
          ]
        }
      ]
    },
    {
      "cell_type": "code",
      "source": [
        "gradosK = lambda k: k+273.15\n",
        "kelvin = int(input(\"Grados Celsius: \"))\n",
        "print(gradosK(kelvin))"
      ],
      "metadata": {
        "colab": {
          "base_uri": "https://localhost:8080/"
        },
        "id": "jNOOYNvk0F8f",
        "outputId": "e254bccf-f155-47f8-b9f9-e0c37dcaee43"
      },
      "execution_count": null,
      "outputs": [
        {
          "output_type": "stream",
          "name": "stdout",
          "text": [
            "Grados Celsius: 10\n",
            "283.15\n"
          ]
        }
      ]
    },
    {
      "cell_type": "code",
      "source": [
        "gradosC = lambda c: c-273.15\n",
        "celsius = float(input(\"Grados kelvin: \"))\n",
        "print(gradosC(celsius))"
      ],
      "metadata": {
        "colab": {
          "base_uri": "https://localhost:8080/"
        },
        "id": "e8w-sp8F04fQ",
        "outputId": "58e9c901-8337-4014-da2c-db467181a33f"
      },
      "execution_count": null,
      "outputs": [
        {
          "output_type": "stream",
          "name": "stdout",
          "text": [
            "Grados kelvin: 340.15\n",
            "67.0\n"
          ]
        }
      ]
    },
    {
      "cell_type": "code",
      "source": [
        "import pandas as pd\n",
        "import matplotlib.pyplot as plt"
      ],
      "metadata": {
        "id": "06G033FnlByI"
      },
      "execution_count": null,
      "outputs": []
    },
    {
      "cell_type": "code",
      "source": [
        "notas = pd.read_csv(\"/content/Notas2.csv\", sep=\";\", encoding=\"utf-8\")\n",
        "print(notas)"
      ],
      "metadata": {
        "id": "npVxRekqmjHW",
        "outputId": "619934e0-b9f5-471c-ba68-faa8071eb690",
        "colab": {
          "base_uri": "https://localhost:8080/"
        }
      },
      "execution_count": null,
      "outputs": [
        {
          "output_type": "stream",
          "name": "stdout",
          "text": [
            "                alumnos  notas\n",
            "0      Carlos Hernandez     10\n",
            "1       Claudia Marquez      9\n",
            "2           Josue Perez      5\n",
            "3   Alejandro Hernandez      4\n",
            "4      Rachell Melendez     10\n",
            "5      Ernesto Carranza      7\n",
            "6        Edgar Siliezar      8\n",
            "7          Sandra Perez     10\n",
            "8    Carolina Rodriguez      7\n",
            "9          Ulises Ortiz      5\n",
            "10         Monica Muñoz     10\n"
          ]
        }
      ]
    },
    {
      "cell_type": "code",
      "source": [
        "sobresalientes = notas.loc[notas[\"notas\"]>=9]\n",
        "print(sobresalientes)"
      ],
      "metadata": {
        "id": "PgDXkJ1mm7lN",
        "outputId": "15a7534f-bb93-4974-ed2c-5388def505fe",
        "colab": {
          "base_uri": "https://localhost:8080/"
        }
      },
      "execution_count": null,
      "outputs": [
        {
          "output_type": "stream",
          "name": "stdout",
          "text": [
            "             alumnos  notas\n",
            "0   Carlos Hernandez     10\n",
            "1    Claudia Marquez      9\n",
            "4   Rachell Melendez     10\n",
            "7       Sandra Perez     10\n",
            "10      Monica Muñoz     10\n"
          ]
        }
      ]
    },
    {
      "cell_type": "code",
      "source": [
        "reprobados = notas.loc[notas[\"notas\"]<6].agg({\"count\"})\n",
        "print(reprobados)"
      ],
      "metadata": {
        "id": "AQqDf4--m_Jl",
        "outputId": "d578b017-483e-4183-db52-a634c43a936d",
        "colab": {
          "base_uri": "https://localhost:8080/"
        }
      },
      "execution_count": null,
      "outputs": [
        {
          "output_type": "stream",
          "name": "stdout",
          "text": [
            "       alumnos  notas\n",
            "count        3      3\n"
          ]
        }
      ]
    },
    {
      "cell_type": "code",
      "source": [
        "agrupar = notas.groupby([\"notas\"]).agg({\"sum\"})\n",
        "print(agrupar)"
      ],
      "metadata": {
        "id": "Vl9sRGN7nKOw",
        "outputId": "c4c8b24d-0f4c-4906-d9de-5501f4a8dae6",
        "colab": {
          "base_uri": "https://localhost:8080/"
        }
      },
      "execution_count": null,
      "outputs": [
        {
          "output_type": "stream",
          "name": "stdout",
          "text": [
            "                                                 alumnos\n",
            "                                                     sum\n",
            "notas                                                   \n",
            "4                                    Alejandro Hernandez\n",
            "5                                Josue PerezUlises Ortiz\n",
            "7                     Ernesto CarranzaCarolina Rodriguez\n",
            "8                                         Edgar Siliezar\n",
            "9                                        Claudia Marquez\n",
            "10     Carlos HernandezRachell MelendezSandra PerezMo...\n"
          ]
        }
      ]
    },
    {
      "cell_type": "code",
      "source": [
        "tabla = pd.crosstab(index=notas[\"notas\"], columns=\"frecuencia\")\n",
        "plt.pie(tabla, labels=tabla.index)\n",
        "plt.xlabel(\"Estudiantes por notas\")\n",
        "plt.show()\n",
        "\n",
        "tabla.to_csv(\"/content/tabla.csv\", sep=\";\")"
      ],
      "metadata": {
        "id": "A9avQpminOJ_",
        "outputId": "86c4fb2e-62bb-4955-85f4-e54302fb1af0",
        "colab": {
          "base_uri": "https://localhost:8080/",
          "height": 319
        }
      },
      "execution_count": null,
      "outputs": [
        {
          "output_type": "stream",
          "name": "stderr",
          "text": [
            "/usr/local/lib/python3.7/dist-packages/ipykernel_launcher.py:2: MatplotlibDeprecationWarning: Non-1D inputs to pie() are currently squeeze()d, but this behavior is deprecated since 3.1 and will be removed in 3.3; pass a 1D array instead.\n",
            "  \n"
          ]
        },
        {
          "output_type": "display_data",
          "data": {
            "text/plain": [
              "<Figure size 432x288 with 1 Axes>"
            ],
            "image/png": "[encoded data removed]"
          },
          "metadata": {}
        }
      ]
    },
    {
      "cell_type": "markdown",
      "source": [
        "**Hola Mundo**"
      ],
      "metadata": {
        "id": "0NASmfaswpFk"
      }
    }
  ]
}